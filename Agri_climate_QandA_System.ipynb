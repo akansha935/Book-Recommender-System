{
  "nbformat": 4,
  "nbformat_minor": 0,
  "metadata": {
    "colab": {
      "provenance": [],
      "authorship_tag": "ABX9TyP7b2BTKuRHgxM3k2WOZdbH",
      "include_colab_link": true
    },
    "kernelspec": {
      "name": "python3",
      "display_name": "Python 3"
    },
    "language_info": {
      "name": "python"
    }
  },
  "cells": [
    {
      "cell_type": "markdown",
      "metadata": {
        "id": "view-in-github",
        "colab_type": "text"
      },
      "source": [
        "<a href=\"https://colab.research.google.com/github/akansha935/Book-Recommender-System/blob/main/Agri_climate_QandA_System.ipynb\" target=\"_parent\"><img src=\"https://colab.research.google.com/assets/colab-badge.svg\" alt=\"Open In Colab\"/></a>"
      ]
    },
    {
      "cell_type": "code",
      "execution_count": null,
      "metadata": {
        "id": "YK1u_-jIDZU-"
      },
      "outputs": [],
      "source": [
        "!pip install gradio pandas numpy matplotlib scikit-learn --quiet\n"
      ]
    },
    {
      "cell_type": "code",
      "source": [
        "# 🌾 Agri-Climate Data-Driven Chatbot (No API Key)\n",
        "!pip install transformers torch pandas --quiet\n",
        "import pandas as pd\n",
        "from transformers import pipeline\n",
        "rainfall_url = \"https://raw.githubusercontent.com/plotly/datasets/master/2016-weather-data-seattle.csv\"\n",
        "crop_url = \"https://raw.githubusercontent.com/justmarkham/DAT8/master/data/u.user\"\n",
        "try:\n",
        "    rainfall = pd.read_csv(rainfall_url)\n",
        "    print(\"✅ Rainfall dataset loaded:\", rainfall.shape)\n",
        "except Exception as e:\n",
        "    print(\"❌ Could not load rainfall dataset:\", e)\n",
        "crop_data = pd.DataFrame({\n",
        "    \"Crop\": [\"Rice\", \"Wheat\", \"Maize\", \"Sugarcane\", \"Cotton\"],\n",
        "    \"Ideal_Temperature\": [\"25-35°C\", \"10-25°C\", \"18-27°C\", \"20-35°C\", \"25-35°C\"],\n",
        "    \"Rainfall_mm\": [\"1000-2000\", \"500-1000\", \"500-800\", \"1200-1500\", \"400-700\"],\n",
        "    \"Soil_Type\": [\"Clayey\", \"Loamy\", \"Alluvial\", \"Loamy\", \"Black\"]\n",
        "})\n",
        "context_parts = []\n",
        "\n",
        "context_parts.append(\"Rainfall observations are taken from Seattle weather data 2016.\")\n",
        "for _, row in crop_data.iterrows():\n",
        "    context_parts.append(\n",
        "        f\"{row.Crop} grows well at {row.Ideal_Temperature} with {row.Rainfall_mm} mm rainfall and prefers {row.Soil_Type} soil.\"\n",
        "    )\n",
        "\n",
        "context = \" \".join(context_parts)\n",
        "qa_model = pipeline(\"question-answering\", model=\"distilbert-base-cased-distilled-squad\")\n",
        "def agri_chatbot(question):\n",
        "    try:\n",
        "        result = qa_model(question=question, context=context)\n",
        "        return result[\"answer\"]\n",
        "    except Exception as e:\n",
        "        return f\"Error: {e}\"\n",
        "[]\n",
        "print(\"🌱 Agri-Climate Chatbot is ready! Ask questions like:\")\n",
        "print(\"➡ 'Which crop needs high rainfall?'\")\n",
        "print(\"➡ 'Best soil for wheat?'\")\n",
        "print(\"➡ 'Which crop grows in low rainfall area?'\")\n",
        "print(\"Type 'exit' to stop.\\n\")\n",
        "\n",
        "while True:\n",
        "    user_input = input(\"You: \")\n",
        "    if user_input.lower() in [\"exit\", \"quit\", \"stop\"]:\n",
        "        print(\"👋 Goodbye!\")\n",
        "        break\n",
        "    print(\"Bot:\", agri_chatbot(user_input))\n"
      ],
      "metadata": {
        "colab": {
          "base_uri": "https://localhost:8080/"
        },
        "id": "AWkzNy4pD_dY",
        "outputId": "7fd7cbc2-a240-4ea3-c89f-bf26e97a7109"
      },
      "execution_count": null,
      "outputs": [
        {
          "output_type": "stream",
          "name": "stdout",
          "text": [
            "✅ Rainfall dataset loaded: (24381, 4)\n"
          ]
        },
        {
          "output_type": "stream",
          "name": "stderr",
          "text": [
            "Device set to use cpu\n"
          ]
        },
        {
          "output_type": "stream",
          "name": "stdout",
          "text": [
            "🌱 Agri-Climate Chatbot is ready! Ask questions like:\n",
            "➡ 'Which crop needs high rainfall?'\n",
            "➡ 'Best soil for wheat?'\n",
            "➡ 'Which crop grows in low rainfall area?'\n",
            "Type 'exit' to stop.\n",
            "\n",
            "You: compare rainfall between rajasthan and bihar\n",
            "Bot: 1000-2000 mm rainfall\n",
            "You: give me best geographical region according to crop type\n",
            "Bot: Seattle weather data 2016\n",
            "You: give me crop type trend of rice in bihar \n",
            "Bot: Rice grows well at 25-35°C with 1000-2000 mm rainfall\n",
            "You: give me average rainfall between maharashtra and gujrat\n",
            "Bot: 500-800 mm rainfall\n",
            "You: give me crop type available in last 5 years\n",
            "Bot: Sugarcane\n"
          ]
        }
      ]
    }
  ]
}